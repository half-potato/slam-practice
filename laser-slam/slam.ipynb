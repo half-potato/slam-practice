{
 "cells": [
  {
   "cell_type": "code",
   "execution_count": 28,
   "metadata": {
    "collapsed": false
   },
   "outputs": [],
   "source": [
    "import re\n",
    "import numpy as np\n",
    "import math"
   ]
  },
  {
   "cell_type": "code",
   "execution_count": 42,
   "metadata": {
    "collapsed": false
   },
   "outputs": [],
   "source": [
    "try:\n",
    "    f = open(\"map\")\n",
    "except IOError:\n",
    "    print(\"Map could not be found\")\n",
    "s = f.read()\n",
    "m = s.split(\"\\n\")\n",
    "markers = []\n",
    "rlocs = []\n",
    "for i in m:\n",
    "    markers.append([m.start() for m in re.finditer(\"l\", i)])\n",
    "    locs = [m.start() for m in re.finditer(r\"([0-9])\", i)]\n",
    "    rlocs.append({p: int(i[p]) for p in locs})\n",
    "#markers is an array of indicies for the landmarks\n",
    "#rlocs is an array of [(indice of number), (number)]"
   ]
  },
  {
   "cell_type": "code",
   "execution_count": 43,
   "metadata": {
    "collapsed": false
   },
   "outputs": [],
   "source": [
    "def getRobotPos(index, rlocs):\n",
    "    for i in range(len(rlocs)):\n",
    "        if index in rlocs[i]:\n",
    "            return [rlocs[i][index], i]"
   ]
  },
  {
   "cell_type": "code",
   "execution_count": 120,
   "metadata": {
    "collapsed": false
   },
   "outputs": [
    {
     "name": "stdout",
     "output_type": "stream",
     "text": [
      "--------------------\n",
      "--------------------\n",
      "----l-----l-------l-\n",
      "--------------------\n",
      "---------9----------\n",
      "--l----8------------\n",
      "--------------l-----\n",
      "-------7------------\n",
      "-----------l--------\n",
      "--l----6------------\n",
      "---------------l----\n",
      "------5-------------\n",
      "--------4-3-2-------\n",
      "--l-----------1-----\n",
      "----------------0---\n",
      "----------l---------\n",
      "--------------------\n",
      "--l-----------------\n",
      "--------------------\n",
      "--------------------\n",
      "\n",
      "[-8.99 -4.  ]\n",
      "ray -1\n",
      "[-7.99 -4.  ]\n",
      "ray -1\n",
      "[-6.99 -4.  ]\n",
      "ray -1\n",
      "[-5.99 -4.  ]\n",
      "ray -1\n",
      "[-4.99 -4.  ]\n",
      "ray -1\n",
      "[-3.99 -4.  ]\n",
      "ray -1\n",
      "[-2.99 -4.  ]\n",
      "ray -1\n",
      "[-1.99 -4.  ]\n",
      "ray -1\n",
      "[-0.99 -4.  ]\n",
      "ray -1\n",
      "[ 0.01 -4.  ]\n",
      "ray -1\n",
      "[ 1.01 -4.  ]\n",
      "ray -1\n",
      "[ 2.01 -4.  ]\n",
      "ray -1\n",
      "[ 3.01 -4.  ]\n",
      "ray -1\n",
      "[ 4.01 -4.  ]\n",
      "ray -1\n",
      "[ 5.01 -4.  ]\n",
      "ray -1\n",
      "[ 6.01 -4.  ]\n",
      "ray -1\n",
      "[ 7.01 -4.  ]\n",
      "ray -1\n",
      "[ 8.01 -4.  ]\n",
      "ray -1\n",
      "[ 9.01 -4.  ]\n",
      "ray -1\n",
      "[ 10.01  -4.  ]\n",
      "ray -1\n"
     ]
    }
   ],
   "source": [
    "def raytrace(p1, p2, markers, tisize):\n",
    "    #Returns hit closest to p1\n",
    "    diff = np.subtract(p2, p1)\n",
    "    diffx = diff[0]\n",
    "    print(diff)\n",
    "    if diffx != 0 and slope[1] != 0:\n",
    "        slope = diff[1] / diffx\n",
    "        for i in range(int(math.ceil(abs(diffx)))):\n",
    "            idiffx = (diffx / math.ceil(abs(diffx))) * float(i)\n",
    "            y = slope * idiffx + p1[1]\n",
    "            x = idiffx + p1[0]\n",
    "            mx, my = math.ceil(x), math.ceil(y)\n",
    "            lx, ly = math.floor(x), math.floor(y)\n",
    "            \n",
    "            dirx, dirslope = int(diffx / abs(diffx)), int(slope / abs(slope))\n",
    "            \n",
    "            cases = {}\n",
    "                \n",
    "            tilesAround = [[lx, ly], [mx, ly], [mx, my], [lx, my]]\n",
    "\n",
    "            #get the start index of colliding cubes\n",
    "            us = 2 * (slope / abs(slope)) + (diffx / abs(diffx))\n",
    "            #map it to the indicies\n",
    "            cases = {3:0.0, -3:1.0, 1:2.0, -1:3.0}\n",
    "            s = cases[us]\n",
    "        \n",
    "            # check around the line and calculate what order to go through the tiles around the line\n",
    "            for xy in range(4):\n",
    "                p = xy + s\n",
    "                if p > 3:\n",
    "                    p = p - 4\n",
    "                tindex = tilesAround[int(p)]\n",
    "                row = markers[tindex[0]]\n",
    "                if tindex[1] in row:\n",
    "                    return math.sqrt(tindex[0]**2 + tindex[1]**2)\n",
    "            return -1\n",
    "print(s)\n",
    "p1 = getRobotPos(9, rlocs)\n",
    "p2 = [11.0, 0.0]\n",
    "for i in range(20):\n",
    "    print(\"ray\", raytrace(p1, [float(i + 0.01), 0.0], markers, 1.))\n",
    "\n",
    "            "
   ]
  },
  {
   "cell_type": "code",
   "execution_count": null,
   "metadata": {
    "collapsed": false
   },
   "outputs": [],
   "source": []
  },
  {
   "cell_type": "code",
   "execution_count": null,
   "metadata": {
    "collapsed": true
   },
   "outputs": [],
   "source": []
  },
  {
   "cell_type": "code",
   "execution_count": null,
   "metadata": {
    "collapsed": true
   },
   "outputs": [],
   "source": []
  }
 ],
 "metadata": {
  "kernelspec": {
   "display_name": "Python 3",
   "language": "python",
   "name": "python3"
  },
  "language_info": {
   "codemirror_mode": {
    "name": "ipython",
    "version": 3
   },
   "file_extension": ".py",
   "mimetype": "text/x-python",
   "name": "python",
   "nbconvert_exporter": "python",
   "pygments_lexer": "ipython3",
   "version": "3.5.1"
  }
 },
 "nbformat": 4,
 "nbformat_minor": 0
}
