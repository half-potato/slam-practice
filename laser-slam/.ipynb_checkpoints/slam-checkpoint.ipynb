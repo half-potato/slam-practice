{
 "cells": [
  {
   "cell_type": "code",
   "execution_count": 28,
   "metadata": {
    "collapsed": false
   },
   "outputs": [],
   "source": [
    "import re\n",
    "import numpy as np\n",
    "import math"
   ]
  },
  {
   "cell_type": "code",
   "execution_count": 42,
   "metadata": {
    "collapsed": false
   },
   "outputs": [],
   "source": [
    "try:\n",
    "    f = open(\"map\")\n",
    "except IOError:\n",
    "    print(\"Map could not be found\")\n",
    "s = f.read()\n",
    "m = s.split(\"\\n\")\n",
    "markers = []\n",
    "rlocs = []\n",
    "for i in m:\n",
    "    markers.append([m.start() for m in re.finditer(\"l\", i)])\n",
    "    locs = [m.start() for m in re.finditer(r\"([0-9])\", i)]\n",
    "    rlocs.append({p: int(i[p]) for p in locs})\n",
    "#markers is an array of indicies for the landmarks\n",
    "#rlocs is an array of [(indice of number), (number)]"
   ]
  },
  {
   "cell_type": "code",
   "execution_count": 43,
   "metadata": {
    "collapsed": false
   },
   "outputs": [],
   "source": [
    "def getRobotPos(index, rlocs):\n",
    "    for i in range(len(rlocs)):\n",
    "        if index in rlocs[i]:\n",
    "            return [rlocs[i][index], i]"
   ]
  },
  {
   "cell_type": "code",
   "execution_count": 112,
   "metadata": {
    "collapsed": false
   },
   "outputs": [
    {
     "name": "stdout",
     "output_type": "stream",
     "text": [
      "[-9. -4.]\n",
      "[-8. -4.]\n",
      "[-7. -4.]\n",
      "[-6. -4.]\n",
      "[-5. -4.]\n",
      "[-4. -4.]\n",
      "[-3. -4.]\n",
      "[-2. -4.]\n",
      "[-1. -4.]\n",
      "[ 0. -4.]\n",
      "[ 1. -4.]\n",
      "[ 2. -4.]\n",
      "[ 3. -4.]\n",
      "[ 4. -4.]\n",
      "[ 5. -4.]\n",
      "[ 6. -4.]\n",
      "[ 7. -4.]\n",
      "[ 8. -4.]\n",
      "[ 9. -4.]\n",
      "[ 10.  -4.]\n"
     ]
    },
    {
     "name": "stderr",
     "output_type": "stream",
     "text": [
      "/usr/lib/python3.5/site-packages/ipykernel/__main__.py:5: RuntimeWarning: divide by zero encountered in double_scalars\n"
     ]
    }
   ],
   "source": [
    "def raytrace(p1, p2, markers, tisize):\n",
    "    #Returns hit closest to p1\n",
    "    diff = np.subtract(p2, p1)\n",
    "    diffx = diff[0]\n",
    "    slope = diff[1] / diffx\n",
    "    print(diff)\n",
    "    for i in range(int(math.ceil(abs(diffx)))):\n",
    "        idiffx = (diffx / math.ceil(abs(diffx))) * float(i)\n",
    "        y = slope * idiffx + p1[1]\n",
    "        x = idiffx + p1[0]\n",
    "        #mx, my = math.ceil(x), math.ceil(y)\n",
    "        #lx, ly = math.floor(x), math.floor(y)\n",
    "        #tilesAround = [[lx, ly], [mx, ly], [mx, my], [lx, my]]\n",
    "        \n",
    "        #get the start index of colliding cubes\n",
    "        #us = 2 * (slope / abs(slope)) + (diffx / abs(diffx))\n",
    "        #map it to the indicies\n",
    "        cases = {3:0.0, -3:1.0, 1:2.0, -1:3.0}\n",
    "        #s = cases[us]\n",
    "        \n",
    "        # check around the line and calculate what order to go through the tiles around the line\n",
    "        \"\"\"for xy in range(4):\n",
    "            p = xy + s\n",
    "            if p > 3:\n",
    "                p = p - 4\n",
    "            tindex = tilesAround[int(p)]\n",
    "            row = markers[tindex[0]]\n",
    "            if tindex[1] in row:\n",
    "                return math.sqrt(tindex[0]**2 + tindex[1]**2)\n",
    "        return -1 \"\"\"\n",
    "#print(s)\n",
    "p1 = getRobotPos(9, rlocs)\n",
    "p2 = [11.0, 0.0]\n",
    "for i in range(20):\n",
    "    #print(\"ray\", \n",
    "          raytrace(p1, [float(i), 0.0], markers, 1.)#)\n",
    "\n",
    "            "
   ]
  },
  {
   "cell_type": "code",
   "execution_count": null,
   "metadata": {
    "collapsed": false
   },
   "outputs": [],
   "source": []
  },
  {
   "cell_type": "code",
   "execution_count": null,
   "metadata": {
    "collapsed": true
   },
   "outputs": [],
   "source": []
  },
  {
   "cell_type": "code",
   "execution_count": null,
   "metadata": {
    "collapsed": true
   },
   "outputs": [],
   "source": []
  }
 ],
 "metadata": {
  "kernelspec": {
   "display_name": "Python 3",
   "language": "python",
   "name": "python3"
  },
  "language_info": {
   "codemirror_mode": {
    "name": "ipython",
    "version": 3
   },
   "file_extension": ".py",
   "mimetype": "text/x-python",
   "name": "python",
   "nbconvert_exporter": "python",
   "pygments_lexer": "ipython3",
   "version": "3.5.1"
  }
 },
 "nbformat": 4,
 "nbformat_minor": 0
}
